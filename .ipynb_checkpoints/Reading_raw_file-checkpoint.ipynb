{
 "cells": [
  {
   "cell_type": "markdown",
   "metadata": {},
   "source": [
    "Read raw files then cleaning into list+dict format\n",
    "'area_data'=[\n",
    "            {'area_name'='N1', \n",
    "                'sub_data'=[\n",
    "                    {'sub_name': 'NIA', \n",
    "                        'feeder_data':[\n",
    "                            {'feeder_name':'OUT01', \n",
    "                                'meatering_data':{'P':{'date_01': [p1,p2,p3,...p96], 'date_02':[p1,p2,p3,...p96]}, \n",
    "                                                  'Q':{'date_01': [q1,q2,q3,...q96], 'date_02':[q1,q2,q3,...q96]}}]}]}\n",
    "                            ]\n",
    "            }, \n",
    "            {'area_name'='C1'}]}\n",
    "            \n",
    "            "
   ]
  },
  {
   "cell_type": "code",
   "execution_count": 53,
   "metadata": {},
   "outputs": [],
   "source": [
    "ex_dict={'N1':{'NIA':{'OUT01':{'P':{'01012018':['p1','p2','p3','p4','p5','p96'], \n",
    "                                   '02012018':'sample'}, \n",
    "                               \n",
    "                               'Q':{'01012018':['q1','q2','q3','q4','q5','q96'], \n",
    "                                   '02012018':'sample'}}, \n",
    "                      'OUT02':'sample'}, \n",
    "               'NIB':'sample','NIU':'sample'}, \n",
    "         'C1':{'BKA':'sample', 'BKU':'sample', 'NVA':'sample', 'NVB':'sample','NVC':'sample', 'NVD':'sample',  \n",
    "              'RGA':'sample', 'RSA':'sample', 'TMS':'sample'}}"
   ]
  },
  {
   "cell_type": "code",
   "execution_count": 55,
   "metadata": {},
   "outputs": [
    {
     "data": {
      "text/plain": [
       "['q1', 'q2', 'q3', 'q4', 'q5', 'q96']"
      ]
     },
     "execution_count": 55,
     "metadata": {},
     "output_type": "execute_result"
    }
   ],
   "source": [
    "ex_dict['N1']['NIA']['OUT01']['Q']['01012018']"
   ]
  },
  {
   "cell_type": "code",
   "execution_count": 59,
   "metadata": {
    "collapsed": true
   },
   "outputs": [],
   "source": [
    "import pandas as pd \n",
    "import os\n",
    "\n",
    "os.chdir(\"raw_files\")"
   ]
  },
  {
   "cell_type": "markdown",
   "metadata": {},
   "source": [
    "read_file N1"
   ]
  },
  {
   "cell_type": "code",
   "execution_count": 62,
   "metadata": {},
   "outputs": [],
   "source": [
    "df_1=pd.read_csv('NIA-P.csv', sep=',')"
   ]
  },
  {
   "cell_type": "code",
   "execution_count": 63,
   "metadata": {},
   "outputs": [
    {
     "data": {
      "text/html": [
       "<div>\n",
       "<style scoped>\n",
       "    .dataframe tbody tr th:only-of-type {\n",
       "        vertical-align: middle;\n",
       "    }\n",
       "\n",
       "    .dataframe tbody tr th {\n",
       "        vertical-align: top;\n",
       "    }\n",
       "\n",
       "    .dataframe thead th {\n",
       "        text-align: right;\n",
       "    }\n",
       "</style>\n",
       "<table border=\"1\" class=\"dataframe\">\n",
       "  <thead>\n",
       "    <tr style=\"text-align: right;\">\n",
       "      <th></th>\n",
       "      <th>Date</th>\n",
       "      <th>Month</th>\n",
       "      <th>Year</th>\n",
       "      <th>Time</th>\n",
       "      <th>PS</th>\n",
       "      <th>Sub_name</th>\n",
       "      <th>VL</th>\n",
       "      <th>Feeder_name</th>\n",
       "      <th>Unit</th>\n",
       "      <th>Measurement</th>\n",
       "      <th>WERT_MIT</th>\n",
       "      <th>DIM</th>\n",
       "    </tr>\n",
       "  </thead>\n",
       "  <tbody>\n",
       "    <tr>\n",
       "      <th>0</th>\n",
       "      <td>1</td>\n",
       "      <td>JAN</td>\n",
       "      <td>2018</td>\n",
       "      <td>00.00.00</td>\n",
       "      <td>PS</td>\n",
       "      <td>:NIA</td>\n",
       "      <td>115</td>\n",
       "      <td>FDR:TP1</td>\n",
       "      <td>MV</td>\n",
       "      <td>:P</td>\n",
       "      <td>4.170241</td>\n",
       "      <td>MW</td>\n",
       "    </tr>\n",
       "    <tr>\n",
       "      <th>1</th>\n",
       "      <td>1</td>\n",
       "      <td>JAN</td>\n",
       "      <td>2018</td>\n",
       "      <td>00.00.00</td>\n",
       "      <td>PS</td>\n",
       "      <td>:NIA</td>\n",
       "      <td>115</td>\n",
       "      <td>FDR:TP2</td>\n",
       "      <td>MV</td>\n",
       "      <td>:P</td>\n",
       "      <td>6.122674</td>\n",
       "      <td>MW</td>\n",
       "    </tr>\n",
       "    <tr>\n",
       "      <th>2</th>\n",
       "      <td>1</td>\n",
       "      <td>JAN</td>\n",
       "      <td>2018</td>\n",
       "      <td>00.00.00</td>\n",
       "      <td>PS</td>\n",
       "      <td>:NIA</td>\n",
       "      <td>22</td>\n",
       "      <td>FDR:INC01</td>\n",
       "      <td>MV</td>\n",
       "      <td>:P</td>\n",
       "      <td>4.224416</td>\n",
       "      <td>MW</td>\n",
       "    </tr>\n",
       "    <tr>\n",
       "      <th>3</th>\n",
       "      <td>1</td>\n",
       "      <td>JAN</td>\n",
       "      <td>2018</td>\n",
       "      <td>00.00.00</td>\n",
       "      <td>PS</td>\n",
       "      <td>:NIA</td>\n",
       "      <td>22</td>\n",
       "      <td>FDR:OUT01</td>\n",
       "      <td>MV</td>\n",
       "      <td>:P</td>\n",
       "      <td>1.094030</td>\n",
       "      <td>MW</td>\n",
       "    </tr>\n",
       "    <tr>\n",
       "      <th>4</th>\n",
       "      <td>1</td>\n",
       "      <td>JAN</td>\n",
       "      <td>2018</td>\n",
       "      <td>00.00.00</td>\n",
       "      <td>PS</td>\n",
       "      <td>:NIA</td>\n",
       "      <td>22</td>\n",
       "      <td>FDR:OUT02</td>\n",
       "      <td>MV</td>\n",
       "      <td>:P</td>\n",
       "      <td>0.540316</td>\n",
       "      <td>MW</td>\n",
       "    </tr>\n",
       "  </tbody>\n",
       "</table>\n",
       "</div>"
      ],
      "text/plain": [
       "   Date Month  Year      Time  PS Sub_name   VL Feeder_name Unit Measurement  \\\n",
       "0     1   JAN  2018  00.00.00  PS     :NIA  115     FDR:TP1   MV          :P   \n",
       "1     1   JAN  2018  00.00.00  PS     :NIA  115     FDR:TP2   MV          :P   \n",
       "2     1   JAN  2018  00.00.00  PS     :NIA   22   FDR:INC01   MV          :P   \n",
       "3     1   JAN  2018  00.00.00  PS     :NIA   22   FDR:OUT01   MV          :P   \n",
       "4     1   JAN  2018  00.00.00  PS     :NIA   22   FDR:OUT02   MV          :P   \n",
       "\n",
       "   WERT_MIT DIM  \n",
       "0  4.170241  MW  \n",
       "1  6.122674  MW  \n",
       "2  4.224416  MW  \n",
       "3  1.094030  MW  \n",
       "4  0.540316  MW  "
      ]
     },
     "execution_count": 63,
     "metadata": {},
     "output_type": "execute_result"
    }
   ],
   "source": [
    "df_1.head()"
   ]
  },
  {
   "cell_type": "code",
   "execution_count": 68,
   "metadata": {},
   "outputs": [],
   "source": [
    "list_time=df_1['Time'].unique()\n",
    "list_substation=df_1['Sub_name'].unique()"
   ]
  },
  {
   "cell_type": "code",
   "execution_count": 69,
   "metadata": {},
   "outputs": [
    {
     "name": "stdout",
     "output_type": "stream",
     "text": [
      "[':NIA']\n"
     ]
    }
   ],
   "source": [
    "print(list_substation)"
   ]
  },
  {
   "cell_type": "code",
   "execution_count": 70,
   "metadata": {},
   "outputs": [
    {
     "data": {
      "text/plain": [
       "376648"
      ]
     },
     "execution_count": 70,
     "metadata": {},
     "output_type": "execute_result"
    }
   ],
   "source": [
    "len(df_1)"
   ]
  },
  {
   "cell_type": "markdown",
   "metadata": {},
   "source": [
    "read_file C1"
   ]
  },
  {
   "cell_type": "code",
   "execution_count": 27,
   "metadata": {
    "collapsed": true
   },
   "outputs": [],
   "source": [
    "df_2=pd.read_csv('c1_2.csv', sep=',')"
   ]
  },
  {
   "cell_type": "code",
   "execution_count": 28,
   "metadata": {},
   "outputs": [
    {
     "data": {
      "text/html": [
       "<div>\n",
       "<style scoped>\n",
       "    .dataframe tbody tr th:only-of-type {\n",
       "        vertical-align: middle;\n",
       "    }\n",
       "\n",
       "    .dataframe tbody tr th {\n",
       "        vertical-align: top;\n",
       "    }\n",
       "\n",
       "    .dataframe thead th {\n",
       "        text-align: right;\n",
       "    }\n",
       "</style>\n",
       "<table border=\"1\" class=\"dataframe\">\n",
       "  <thead>\n",
       "    <tr style=\"text-align: right;\">\n",
       "      <th></th>\n",
       "      <th>Area</th>\n",
       "      <th>Substation</th>\n",
       "      <th>Type</th>\n",
       "      <th>Feeder</th>\n",
       "      <th>Date1</th>\n",
       "      <th>Unnamed: 5</th>\n",
       "      <th>Unnamed: 6</th>\n",
       "      <th>Ia</th>\n",
       "      <th>Ib</th>\n",
       "      <th>Ic</th>\n",
       "      <th>MW</th>\n",
       "      <th>MVAR</th>\n",
       "      <th>PF</th>\n",
       "    </tr>\n",
       "  </thead>\n",
       "  <tbody>\n",
       "    <tr>\n",
       "      <th>0</th>\n",
       "      <td>C1</td>\n",
       "      <td>BKA</td>\n",
       "      <td>HV_CB</td>\n",
       "      <td>01YB01</td>\n",
       "      <td>11/13/18</td>\n",
       "      <td>12:00:00</td>\n",
       "      <td>AM</td>\n",
       "      <td>40.148823</td>\n",
       "      <td>40.258686</td>\n",
       "      <td>39.697163</td>\n",
       "      <td>3.705960</td>\n",
       "      <td>1.307232</td>\n",
       "      <td>0.0</td>\n",
       "    </tr>\n",
       "    <tr>\n",
       "      <th>1</th>\n",
       "      <td>NaN</td>\n",
       "      <td>NaN</td>\n",
       "      <td>NaN</td>\n",
       "      <td>NaN</td>\n",
       "      <td>NaN</td>\n",
       "      <td>NaN</td>\n",
       "      <td>NaN</td>\n",
       "      <td>NaN</td>\n",
       "      <td>NaN</td>\n",
       "      <td>NaN</td>\n",
       "      <td>NaN</td>\n",
       "      <td>NaN</td>\n",
       "      <td>NaN</td>\n",
       "    </tr>\n",
       "    <tr>\n",
       "      <th>2</th>\n",
       "      <td>C1</td>\n",
       "      <td>BKA</td>\n",
       "      <td>HV_CB</td>\n",
       "      <td>01YB01</td>\n",
       "      <td>11/13/18</td>\n",
       "      <td>12:30:00</td>\n",
       "      <td>AM</td>\n",
       "      <td>38.256737</td>\n",
       "      <td>37.646385</td>\n",
       "      <td>37.536522</td>\n",
       "      <td>3.503040</td>\n",
       "      <td>1.127808</td>\n",
       "      <td>0.0</td>\n",
       "    </tr>\n",
       "    <tr>\n",
       "      <th>3</th>\n",
       "      <td>NaN</td>\n",
       "      <td>NaN</td>\n",
       "      <td>NaN</td>\n",
       "      <td>NaN</td>\n",
       "      <td>NaN</td>\n",
       "      <td>NaN</td>\n",
       "      <td>NaN</td>\n",
       "      <td>NaN</td>\n",
       "      <td>NaN</td>\n",
       "      <td>NaN</td>\n",
       "      <td>NaN</td>\n",
       "      <td>NaN</td>\n",
       "      <td>NaN</td>\n",
       "    </tr>\n",
       "    <tr>\n",
       "      <th>4</th>\n",
       "      <td>C1</td>\n",
       "      <td>BKA</td>\n",
       "      <td>HV_CB</td>\n",
       "      <td>01YB01</td>\n",
       "      <td>11/13/18</td>\n",
       "      <td>1:00:00</td>\n",
       "      <td>AM</td>\n",
       "      <td>38.745018</td>\n",
       "      <td>38.415428</td>\n",
       "      <td>37.719627</td>\n",
       "      <td>3.550032</td>\n",
       "      <td>1.174800</td>\n",
       "      <td>0.0</td>\n",
       "    </tr>\n",
       "  </tbody>\n",
       "</table>\n",
       "</div>"
      ],
      "text/plain": [
       "  Area Substation   Type  Feeder     Date1 Unnamed: 5 Unnamed: 6         Ia  \\\n",
       "0   C1        BKA  HV_CB  01YB01  11/13/18   12:00:00         AM  40.148823   \n",
       "1  NaN        NaN    NaN     NaN       NaN        NaN        NaN        NaN   \n",
       "2   C1        BKA  HV_CB  01YB01  11/13/18   12:30:00         AM  38.256737   \n",
       "3  NaN        NaN    NaN     NaN       NaN        NaN        NaN        NaN   \n",
       "4   C1        BKA  HV_CB  01YB01  11/13/18    1:00:00         AM  38.745018   \n",
       "\n",
       "          Ib         Ic        MW      MVAR   PF  \n",
       "0  40.258686  39.697163  3.705960  1.307232  0.0  \n",
       "1        NaN        NaN       NaN       NaN  NaN  \n",
       "2  37.646385  37.536522  3.503040  1.127808  0.0  \n",
       "3        NaN        NaN       NaN       NaN  NaN  \n",
       "4  38.415428  37.719627  3.550032  1.174800  0.0  "
      ]
     },
     "execution_count": 28,
     "metadata": {},
     "output_type": "execute_result"
    }
   ],
   "source": [
    "df_2.head()"
   ]
  },
  {
   "cell_type": "code",
   "execution_count": 29,
   "metadata": {},
   "outputs": [],
   "source": [
    "df_2=df_2.dropna(axis=0, how='all').copy()\n",
    "df_2=df_2.reset_index().copy()\n",
    "del df_2['index']"
   ]
  },
  {
   "cell_type": "code",
   "execution_count": 30,
   "metadata": {},
   "outputs": [
    {
     "data": {
      "text/html": [
       "<div>\n",
       "<style scoped>\n",
       "    .dataframe tbody tr th:only-of-type {\n",
       "        vertical-align: middle;\n",
       "    }\n",
       "\n",
       "    .dataframe tbody tr th {\n",
       "        vertical-align: top;\n",
       "    }\n",
       "\n",
       "    .dataframe thead th {\n",
       "        text-align: right;\n",
       "    }\n",
       "</style>\n",
       "<table border=\"1\" class=\"dataframe\">\n",
       "  <thead>\n",
       "    <tr style=\"text-align: right;\">\n",
       "      <th></th>\n",
       "      <th>Area</th>\n",
       "      <th>Substation</th>\n",
       "      <th>Type</th>\n",
       "      <th>Feeder</th>\n",
       "      <th>Date1</th>\n",
       "      <th>Unnamed: 5</th>\n",
       "      <th>Unnamed: 6</th>\n",
       "      <th>Ia</th>\n",
       "      <th>Ib</th>\n",
       "      <th>Ic</th>\n",
       "      <th>MW</th>\n",
       "      <th>MVAR</th>\n",
       "      <th>PF</th>\n",
       "    </tr>\n",
       "  </thead>\n",
       "  <tbody>\n",
       "    <tr>\n",
       "      <th>0</th>\n",
       "      <td>C1</td>\n",
       "      <td>BKA</td>\n",
       "      <td>HV_CB</td>\n",
       "      <td>01YB01</td>\n",
       "      <td>11/13/18</td>\n",
       "      <td>12:00:00</td>\n",
       "      <td>AM</td>\n",
       "      <td>40.148823</td>\n",
       "      <td>40.258686</td>\n",
       "      <td>39.697163</td>\n",
       "      <td>3.705960</td>\n",
       "      <td>1.307232</td>\n",
       "      <td>0.0</td>\n",
       "    </tr>\n",
       "    <tr>\n",
       "      <th>1</th>\n",
       "      <td>C1</td>\n",
       "      <td>BKA</td>\n",
       "      <td>HV_CB</td>\n",
       "      <td>01YB01</td>\n",
       "      <td>11/13/18</td>\n",
       "      <td>12:30:00</td>\n",
       "      <td>AM</td>\n",
       "      <td>38.256737</td>\n",
       "      <td>37.646385</td>\n",
       "      <td>37.536522</td>\n",
       "      <td>3.503040</td>\n",
       "      <td>1.127808</td>\n",
       "      <td>0.0</td>\n",
       "    </tr>\n",
       "    <tr>\n",
       "      <th>2</th>\n",
       "      <td>C1</td>\n",
       "      <td>BKA</td>\n",
       "      <td>HV_CB</td>\n",
       "      <td>01YB01</td>\n",
       "      <td>11/13/18</td>\n",
       "      <td>1:00:00</td>\n",
       "      <td>AM</td>\n",
       "      <td>38.745018</td>\n",
       "      <td>38.415428</td>\n",
       "      <td>37.719627</td>\n",
       "      <td>3.550032</td>\n",
       "      <td>1.174800</td>\n",
       "      <td>0.0</td>\n",
       "    </tr>\n",
       "    <tr>\n",
       "      <th>3</th>\n",
       "      <td>C1</td>\n",
       "      <td>BKA</td>\n",
       "      <td>HV_CB</td>\n",
       "      <td>01YB01</td>\n",
       "      <td>11/13/18</td>\n",
       "      <td>1:30:00</td>\n",
       "      <td>AM</td>\n",
       "      <td>41.454971</td>\n",
       "      <td>41.308487</td>\n",
       "      <td>41.052139</td>\n",
       "      <td>3.802080</td>\n",
       "      <td>1.354224</td>\n",
       "      <td>0.0</td>\n",
       "    </tr>\n",
       "    <tr>\n",
       "      <th>4</th>\n",
       "      <td>C1</td>\n",
       "      <td>BKA</td>\n",
       "      <td>HV_CB</td>\n",
       "      <td>01YB01</td>\n",
       "      <td>11/13/18</td>\n",
       "      <td>2:00:00</td>\n",
       "      <td>AM</td>\n",
       "      <td>40.637100</td>\n",
       "      <td>40.539444</td>\n",
       "      <td>40.234272</td>\n",
       "      <td>3.718776</td>\n",
       "      <td>1.330728</td>\n",
       "      <td>0.0</td>\n",
       "    </tr>\n",
       "  </tbody>\n",
       "</table>\n",
       "</div>"
      ],
      "text/plain": [
       "  Area Substation   Type  Feeder     Date1 Unnamed: 5 Unnamed: 6         Ia  \\\n",
       "0   C1        BKA  HV_CB  01YB01  11/13/18   12:00:00         AM  40.148823   \n",
       "1   C1        BKA  HV_CB  01YB01  11/13/18   12:30:00         AM  38.256737   \n",
       "2   C1        BKA  HV_CB  01YB01  11/13/18    1:00:00         AM  38.745018   \n",
       "3   C1        BKA  HV_CB  01YB01  11/13/18    1:30:00         AM  41.454971   \n",
       "4   C1        BKA  HV_CB  01YB01  11/13/18    2:00:00         AM  40.637100   \n",
       "\n",
       "          Ib         Ic        MW      MVAR   PF  \n",
       "0  40.258686  39.697163  3.705960  1.307232  0.0  \n",
       "1  37.646385  37.536522  3.503040  1.127808  0.0  \n",
       "2  38.415428  37.719627  3.550032  1.174800  0.0  \n",
       "3  41.308487  41.052139  3.802080  1.354224  0.0  \n",
       "4  40.539444  40.234272  3.718776  1.330728  0.0  "
      ]
     },
     "execution_count": 30,
     "metadata": {},
     "output_type": "execute_result"
    }
   ],
   "source": [
    "df_2.head()"
   ]
  },
  {
   "cell_type": "code",
   "execution_count": 31,
   "metadata": {
    "collapsed": true
   },
   "outputs": [],
   "source": [
    "list_substation=df_2['Substation'].unique()"
   ]
  },
  {
   "cell_type": "code",
   "execution_count": 35,
   "metadata": {},
   "outputs": [
    {
     "name": "stdout",
     "output_type": "stream",
     "text": [
      "BKA\n",
      "BKU\n",
      "NVA\n",
      "NVB\n",
      "NVC\n",
      "NVD\n",
      "RGA\n",
      "RSA\n",
      "TMS\n"
     ]
    }
   ],
   "source": [
    "for x in list_substation:\n",
    "    print(x)"
   ]
  },
  {
   "cell_type": "code",
   "execution_count": null,
   "metadata": {
    "collapsed": true
   },
   "outputs": [],
   "source": []
  }
 ],
 "metadata": {
  "kernelspec": {
   "display_name": "Python 3",
   "language": "python",
   "name": "python3"
  },
  "language_info": {
   "codemirror_mode": {
    "name": "ipython",
    "version": 3
   },
   "file_extension": ".py",
   "mimetype": "text/x-python",
   "name": "python",
   "nbconvert_exporter": "python",
   "pygments_lexer": "ipython3",
   "version": "3.6.8"
  }
 },
 "nbformat": 4,
 "nbformat_minor": 2
}
