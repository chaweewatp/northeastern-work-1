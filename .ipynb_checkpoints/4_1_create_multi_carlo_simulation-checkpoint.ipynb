{
 "cells": [
  {
   "cell_type": "code",
   "execution_count": 3,
   "metadata": {},
   "outputs": [],
   "source": [
    "RANDOM_STATE = 31415\n"
   ]
  },
  {
   "cell_type": "code",
   "execution_count": 2,
   "metadata": {},
   "outputs": [],
   "source": [
    "from scipy.stats import uniform\n",
    "import numpy as np\n",
    "import pandas as pd\n",
    "import seaborn\n",
    "dataset = seaborn.load_dataset('titanic')\n",
    "import scipy\n",
    "import scipy.stats\n",
    "import matplotlib\n",
    "import matplotlib.pyplot as plt"
   ]
  },
  {
   "cell_type": "code",
   "execution_count": 287,
   "metadata": {
    "scrolled": false
   },
   "outputs": [
    {
     "ename": "IndentationError",
     "evalue": "expected an indented block (<ipython-input-287-552141eef0c5>, line 29)",
     "output_type": "error",
     "traceback": [
      "\u001b[1;36m  File \u001b[1;32m\"<ipython-input-287-552141eef0c5>\"\u001b[1;36m, line \u001b[1;32m29\u001b[0m\n\u001b[1;33m    num_1=num_1+1\u001b[0m\n\u001b[1;37m        ^\u001b[0m\n\u001b[1;31mIndentationError\u001b[0m\u001b[1;31m:\u001b[0m expected an indented block\n"
     ]
    }
   ],
   "source": [
    "    dict_MC_AMR={}\n",
    "bin =[-0.01]+[x for x in np.arange(0,2000,10)]\n",
    "size_of_MC=20\n",
    "dict_2=np.load('AMR_CI_dict.npy')[()]\n",
    "# # print(dict_2)\n",
    "num_1=0\n",
    "for key1 in list(dict_2.keys()):\n",
    "#     print('{}/{}'.format(num_1,len(list(dict_2.keys()))))\n",
    "#     dict_MC_AMR.update({key1:{}})\n",
    "#     dict_2[key1]['working_day'].pop('mean', None)\n",
    "#     dict_2[key1]['working_day'].pop('other_stat_values', None)\n",
    "# #     print(dict_2[key1]['working_day'])\n",
    "# #     AMR_df=pd.DataFrame()\n",
    "#     for time in np.arange(0,48,1):\n",
    "# #         print(time)\n",
    "#         AMR_df=pd.DataFrame()\n",
    "#         AMR_df['t{}'.format(time)]=[dict_2[key1]['working_day'][key2][time]*1000 for key2 in list(dict_2[key1]['working_day'].keys())]\n",
    "#         category=pd.cut(AMR_df['t{}'.format(time)],bin)\n",
    "#         category = category.to_frame()\n",
    "#         category.columns = ['range']\n",
    "#         df_new = pd.concat([AMR_df,category],axis = 1)\n",
    "#         AMR_probability = pd.DataFrame({'probability': df_new.groupby(by = 'range', as_index=False).size() / df_new['range'].count()}).reset_index()\n",
    "#         AMR_probability['kW']=[x.left for x in AMR_probability['range']]\n",
    "#         values = AMR_probability.kW\n",
    "#         probabilities = AMR_probability.probability\n",
    "#         custom_discrete_dist = rv_discrete(values=(values, probabilities))\n",
    "#         dict_MC_AMR[key1].update({'t{}'.format(time):custom_discrete_dist.rvs(size=size_of_MC)})\n",
    "# #     print(dict_MC_AMR[key1])\n",
    "    num_1=num_1+1\n",
    "    \n",
    "# np.save('dict_MC_AMR.npy',dict_MC_AMR)\n",
    "\n",
    "# print('save dict_MC_AMR.npy')\n"
   ]
  },
  {
   "cell_type": "code",
   "execution_count": 273,
   "metadata": {},
   "outputs": [
    {
     "name": "stdout",
     "output_type": "stream",
     "text": [
      "save dict_MC_AMR.npy\n"
     ]
    }
   ],
   "source": [
    "np.save('dict_MC_AMR.npy',dict_MC_AMR)\n",
    "\n",
    "print('save dict_MC_AMR.npy')"
   ]
  },
  {
   "cell_type": "code",
   "execution_count": 241,
   "metadata": {},
   "outputs": [
    {
     "data": {
      "text/plain": [
       "13"
      ]
     },
     "execution_count": 241,
     "metadata": {},
     "output_type": "execute_result"
    }
   ],
   "source": []
  },
  {
   "cell_type": "code",
   "execution_count": 236,
   "metadata": {},
   "outputs": [
    {
     "data": {
      "text/html": [
       "<div>\n",
       "<style scoped>\n",
       "    .dataframe tbody tr th:only-of-type {\n",
       "        vertical-align: middle;\n",
       "    }\n",
       "\n",
       "    .dataframe tbody tr th {\n",
       "        vertical-align: top;\n",
       "    }\n",
       "\n",
       "    .dataframe thead th {\n",
       "        text-align: right;\n",
       "    }\n",
       "</style>\n",
       "<table border=\"1\" class=\"dataframe\">\n",
       "  <thead>\n",
       "    <tr style=\"text-align: right;\">\n",
       "      <th></th>\n",
       "      <th>t39</th>\n",
       "      <th>range</th>\n",
       "    </tr>\n",
       "  </thead>\n",
       "  <tbody>\n",
       "    <tr>\n",
       "      <th>0</th>\n",
       "      <td>0.532235</td>\n",
       "      <td>(0.51, 0.61]</td>\n",
       "    </tr>\n",
       "    <tr>\n",
       "      <th>1</th>\n",
       "      <td>0.813303</td>\n",
       "      <td>(0.81, 0.91]</td>\n",
       "    </tr>\n",
       "    <tr>\n",
       "      <th>2</th>\n",
       "      <td>0.928273</td>\n",
       "      <td>(0.91, 1.01]</td>\n",
       "    </tr>\n",
       "    <tr>\n",
       "      <th>3</th>\n",
       "      <td>1.104054</td>\n",
       "      <td>(1.01, 1.11]</td>\n",
       "    </tr>\n",
       "    <tr>\n",
       "      <th>4</th>\n",
       "      <td>1.222758</td>\n",
       "      <td>(1.21, 1.31]</td>\n",
       "    </tr>\n",
       "    <tr>\n",
       "      <th>5</th>\n",
       "      <td>1.330968</td>\n",
       "      <td>(1.31, 1.41]</td>\n",
       "    </tr>\n",
       "    <tr>\n",
       "      <th>6</th>\n",
       "      <td>1.421454</td>\n",
       "      <td>(1.41, 1.51]</td>\n",
       "    </tr>\n",
       "    <tr>\n",
       "      <th>7</th>\n",
       "      <td>1.527980</td>\n",
       "      <td>(1.51, 1.61]</td>\n",
       "    </tr>\n",
       "    <tr>\n",
       "      <th>8</th>\n",
       "      <td>1.645443</td>\n",
       "      <td>(1.61, 1.71]</td>\n",
       "    </tr>\n",
       "    <tr>\n",
       "      <th>9</th>\n",
       "      <td>1.809779</td>\n",
       "      <td>(1.71, 1.81]</td>\n",
       "    </tr>\n",
       "    <tr>\n",
       "      <th>10</th>\n",
       "      <td>2.007406</td>\n",
       "      <td>(1.91, 2.01]</td>\n",
       "    </tr>\n",
       "    <tr>\n",
       "      <th>11</th>\n",
       "      <td>2.474063</td>\n",
       "      <td>(2.41, 2.51]</td>\n",
       "    </tr>\n",
       "    <tr>\n",
       "      <th>12</th>\n",
       "      <td>3.180531</td>\n",
       "      <td>(3.11, 3.21]</td>\n",
       "    </tr>\n",
       "  </tbody>\n",
       "</table>\n",
       "</div>"
      ],
      "text/plain": [
       "         t39         range\n",
       "0   0.532235  (0.51, 0.61]\n",
       "1   0.813303  (0.81, 0.91]\n",
       "2   0.928273  (0.91, 1.01]\n",
       "3   1.104054  (1.01, 1.11]\n",
       "4   1.222758  (1.21, 1.31]\n",
       "5   1.330968  (1.31, 1.41]\n",
       "6   1.421454  (1.41, 1.51]\n",
       "7   1.527980  (1.51, 1.61]\n",
       "8   1.645443  (1.61, 1.71]\n",
       "9   1.809779  (1.71, 1.81]\n",
       "10  2.007406  (1.91, 2.01]\n",
       "11  2.474063  (2.41, 2.51]\n",
       "12  3.180531  (3.11, 3.21]"
      ]
     },
     "execution_count": 236,
     "metadata": {},
     "output_type": "execute_result"
    }
   ],
   "source": []
  },
  {
   "cell_type": "code",
   "execution_count": null,
   "metadata": {},
   "outputs": [],
   "source": []
  },
  {
   "cell_type": "code",
   "execution_count": null,
   "metadata": {},
   "outputs": [],
   "source": []
  },
  {
   "cell_type": "code",
   "execution_count": null,
   "metadata": {},
   "outputs": [],
   "source": []
  },
  {
   "cell_type": "code",
   "execution_count": null,
   "metadata": {},
   "outputs": [],
   "source": []
  },
  {
   "cell_type": "code",
   "execution_count": null,
   "metadata": {},
   "outputs": [],
   "source": []
  },
  {
   "cell_type": "code",
   "execution_count": 4,
   "metadata": {},
   "outputs": [
    {
     "data": {
      "text/plain": [
       "array([12.91637212, 13.5034834 , 19.41407972, 17.69608729, 18.18131685,\n",
       "       16.47185933,  9.73419442, 12.41987159, 12.87024926,  8.00739132])"
      ]
     },
     "execution_count": 4,
     "metadata": {},
     "output_type": "execute_result"
    }
   ],
   "source": [
    "uniform_dist = uniform(loc = 0, scale = 20)\n",
    "uniform_dist.rvs(size = 10, random_state = RANDOM_STATE)\n",
    "uniform_dist\n",
    "dist_array=np.array([20,20])\n",
    "dist_array.rvs(size = 10, random_state = RANDOM_STATE)"
   ]
  },
  {
   "cell_type": "markdown",
   "metadata": {},
   "source": [
    "# disContinus random variable"
   ]
  },
  {
   "cell_type": "markdown",
   "metadata": {},
   "source": [
    "## generate scipy.stats._distn_infrastructure.rv_sample model"
   ]
  },
  {
   "cell_type": "code",
   "execution_count": 117,
   "metadata": {},
   "outputs": [
    {
     "data": {
      "text/plain": [
       "array([2, 1, 3, 3, 1, 3, 1, 3, 3, 2, 3, 3, 3, 3, 1, 2, 2, 2, 1, 2])"
      ]
     },
     "execution_count": 117,
     "metadata": {},
     "output_type": "execute_result"
    }
   ],
   "source": [
    "from scipy.stats import rv_discrete, rv_continuous\n",
    "pclass_probability = pd.DataFrame({'probability': dataset.groupby(by = \"pclass\", as_index=False).size() / dataset.pclass.count()}).reset_index()\n",
    "\n",
    "\n",
    "pclass_probability\n",
    "values = pclass_probability.pclass\n",
    "probabilities = pclass_probability.probability\n",
    "custom_discrete_dist = rv_discrete(values=(values, probabilities))\n",
    "\n",
    "# print(custom_discrete_dist)\n",
    "\n",
    "custom_discrete_dist.rvs(size = 20)"
   ]
  },
  {
   "cell_type": "code",
   "execution_count": 107,
   "metadata": {},
   "outputs": [
    {
     "data": {
      "text/plain": [
       "<scipy.stats._distn_infrastructure.rv_sample at 0x76ba198>"
      ]
     },
     "execution_count": 107,
     "metadata": {},
     "output_type": "execute_result"
    }
   ],
   "source": [
    "custom_discrete_dist"
   ]
  },
  {
   "cell_type": "markdown",
   "metadata": {},
   "source": [
    "# generate contineus random variable"
   ]
  },
  {
   "cell_type": "code",
   "execution_count": 70,
   "metadata": {},
   "outputs": [],
   "source": [
    "# more link : https://docs.scipy.org/doc/scipy/reference/generated/scipy.stats.rv_continuous.html\n",
    "# https://docs.scipy.org/doc/scipy/reference/generated/scipy.stats.rv_continuous.rvs.html\n",
    "# https://stackoverflow.com/questions/22447797/how-do-you-use-scipy-stats-rv-continuous"
   ]
  },
  {
   "cell_type": "code",
   "execution_count": 71,
   "metadata": {},
   "outputs": [],
   "source": [
    "# example with existing distribution    "
   ]
  },
  {
   "cell_type": "code",
   "execution_count": 15,
   "metadata": {},
   "outputs": [],
   "source": [
    "import pandas as pd\n",
    "import numpy as np\n",
    "\n",
    "#generate a dataframe with random number for age from 0 - 9\n",
    "df_age = pd.DataFrame(np.random.randint(low=0, high=9, size=(100, 1)),columns = ['age'])\n",
    "#set up bins\n",
    "bin = [x for x in np.arange(-1,20,1)]\n",
    "\n",
    "#use pd.cut function can attribute the values into its specific bins\n",
    "category = pd.cut(df_age.age,bin)\n",
    "category = category.to_frame()\n",
    "category.columns = ['range']\n",
    "#concatenate age and its bin\n",
    "df_new = pd.concat([df_age,category],axis = 1)"
   ]
  },
  {
   "cell_type": "code",
   "execution_count": 38,
   "metadata": {},
   "outputs": [
    {
     "data": {
      "text/plain": [
       "100"
      ]
     },
     "execution_count": 38,
     "metadata": {},
     "output_type": "execute_result"
    }
   ],
   "source": [
    "df_age.age.count()"
   ]
  },
  {
   "cell_type": "code",
   "execution_count": 19,
   "metadata": {},
   "outputs": [],
   "source": [
    "age_probability = pd.DataFrame({'probability': df_age.groupby(by = \"age\", as_index=False).size() / df_age.age.count()}).reset_index()"
   ]
  },
  {
   "cell_type": "code",
   "execution_count": 20,
   "metadata": {},
   "outputs": [
    {
     "data": {
      "text/html": [
       "<div>\n",
       "<style scoped>\n",
       "    .dataframe tbody tr th:only-of-type {\n",
       "        vertical-align: middle;\n",
       "    }\n",
       "\n",
       "    .dataframe tbody tr th {\n",
       "        vertical-align: top;\n",
       "    }\n",
       "\n",
       "    .dataframe thead th {\n",
       "        text-align: right;\n",
       "    }\n",
       "</style>\n",
       "<table border=\"1\" class=\"dataframe\">\n",
       "  <thead>\n",
       "    <tr style=\"text-align: right;\">\n",
       "      <th></th>\n",
       "      <th>age</th>\n",
       "      <th>probability</th>\n",
       "    </tr>\n",
       "  </thead>\n",
       "  <tbody>\n",
       "    <tr>\n",
       "      <th>0</th>\n",
       "      <td>0</td>\n",
       "      <td>0.12</td>\n",
       "    </tr>\n",
       "    <tr>\n",
       "      <th>1</th>\n",
       "      <td>1</td>\n",
       "      <td>0.12</td>\n",
       "    </tr>\n",
       "    <tr>\n",
       "      <th>2</th>\n",
       "      <td>2</td>\n",
       "      <td>0.14</td>\n",
       "    </tr>\n",
       "    <tr>\n",
       "      <th>3</th>\n",
       "      <td>3</td>\n",
       "      <td>0.09</td>\n",
       "    </tr>\n",
       "    <tr>\n",
       "      <th>4</th>\n",
       "      <td>4</td>\n",
       "      <td>0.20</td>\n",
       "    </tr>\n",
       "    <tr>\n",
       "      <th>5</th>\n",
       "      <td>5</td>\n",
       "      <td>0.06</td>\n",
       "    </tr>\n",
       "    <tr>\n",
       "      <th>6</th>\n",
       "      <td>6</td>\n",
       "      <td>0.05</td>\n",
       "    </tr>\n",
       "    <tr>\n",
       "      <th>7</th>\n",
       "      <td>7</td>\n",
       "      <td>0.10</td>\n",
       "    </tr>\n",
       "    <tr>\n",
       "      <th>8</th>\n",
       "      <td>8</td>\n",
       "      <td>0.12</td>\n",
       "    </tr>\n",
       "  </tbody>\n",
       "</table>\n",
       "</div>"
      ],
      "text/plain": [
       "   age  probability\n",
       "0    0         0.12\n",
       "1    1         0.12\n",
       "2    2         0.14\n",
       "3    3         0.09\n",
       "4    4         0.20\n",
       "5    5         0.06\n",
       "6    6         0.05\n",
       "7    7         0.10\n",
       "8    8         0.12"
      ]
     },
     "execution_count": 20,
     "metadata": {},
     "output_type": "execute_result"
    }
   ],
   "source": [
    "age_probability"
   ]
  }
 ],
 "metadata": {
  "kernelspec": {
   "display_name": "Python 3",
   "language": "python",
   "name": "python3"
  },
  "language_info": {
   "codemirror_mode": {
    "name": "ipython",
    "version": 3
   },
   "file_extension": ".py",
   "mimetype": "text/x-python",
   "name": "python",
   "nbconvert_exporter": "python",
   "pygments_lexer": "ipython3",
   "version": "3.7.2"
  }
 },
 "nbformat": 4,
 "nbformat_minor": 2
}
