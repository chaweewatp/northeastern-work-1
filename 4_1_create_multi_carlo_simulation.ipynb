{
 "cells": [
  {
   "cell_type": "code",
   "execution_count": 3,
   "metadata": {},
   "outputs": [],
   "source": [
    "RANDOM_STATE = 31415\n"
   ]
  },
  {
   "cell_type": "code",
   "execution_count": 2,
   "metadata": {},
   "outputs": [],
   "source": [
    "from scipy.stats import uniform\n",
    "import numpy as np\n",
    "import pandas as pd\n",
    "import seaborn\n",
    "dataset = seaborn.load_dataset('titanic')\n",
    "import scipy\n",
    "import scipy.stats\n",
    "import matplotlib\n",
    "import matplotlib.pyplot as plt"
   ]
  },
  {
   "cell_type": "code",
   "execution_count": 14,
   "metadata": {
    "scrolled": true
   },
   "outputs": [
    {
     "name": "stdout",
     "output_type": "stream",
     "text": [
      "save dict_MC_AMR.npy\n"
     ]
    }
   ],
   "source": [
    "dict_MC_AMR={}\n",
    "bin =[-0.01]+[x for x in np.arange(0,5000,30)]\n",
    "size_of_MC=20\n",
    "dict_2=np.load('AMR_CI_dict.npy')[()]\n",
    "# # print(dict_2)\n",
    "num_1=0\n",
    "for key1 in list(dict_2.keys()):\n",
    "#     print('{}/{}'.format(num_1,len(list(dict_2.keys()))))\n",
    "    dict_MC_AMR.update({key1:{}})\n",
    "    dict_2[key1]['working_day'].pop('mean', None)\n",
    "    dict_2[key1]['working_day'].pop('other_stat_values', None)\n",
    "#     print(dict_2[key1]['working_day'])\n",
    "#     AMR_df=pd.DataFrame()\n",
    "    for time in np.arange(0,48,1):\n",
    "#         print(time)\n",
    "        AMR_df=pd.DataFrame()\n",
    "        AMR_df['t{}'.format(time)]=[dict_2[key1]['working_day'][key2][time]*1000 for key2 in list(dict_2[key1]['working_day'].keys())]\n",
    "        category=pd.cut(AMR_df['t{}'.format(time)],bin)\n",
    "        category = category.to_frame()\n",
    "        category.columns = ['range']\n",
    "        df_new = pd.concat([AMR_df,category],axis = 1)\n",
    "#         print(df_new)\n",
    "        AMR_probability = pd.DataFrame({'probability': df_new.groupby(by = 'range', as_index=False).size() / df_new['range'].count()}).reset_index()\n",
    "        AMR_probability['kW']=[x.left for x in AMR_probability['range']]\n",
    "        \n",
    "        values = AMR_probability.kW\n",
    "        probabilities = AMR_probability.probability\n",
    "        custom_discrete_dist = rv_discrete(values=(values, probabilities))\n",
    "        dict_MC_AMR[key1].update({'t{}'.format(time):custom_discrete_dist.rvs(size=size_of_MC)})\n",
    "#     print(dict_MC_AMR[key1])\n",
    "    num_1=num_1+1\n",
    "    \n",
    "np.save('dict_MC_AMR.npy',dict_MC_AMR)\n",
    "\n",
    "print('save dict_MC_AMR.npy')\n"
   ]
  },
  {
   "cell_type": "code",
   "execution_count": null,
   "metadata": {},
   "outputs": [],
   "source": []
  },
  {
   "cell_type": "code",
   "execution_count": null,
   "metadata": {},
   "outputs": [],
   "source": []
  },
  {
   "cell_type": "code",
   "execution_count": null,
   "metadata": {},
   "outputs": [],
   "source": []
  },
  {
   "cell_type": "code",
   "execution_count": null,
   "metadata": {},
   "outputs": [],
   "source": []
  },
  {
   "cell_type": "code",
   "execution_count": null,
   "metadata": {},
   "outputs": [],
   "source": []
  },
  {
   "cell_type": "code",
   "execution_count": null,
   "metadata": {},
   "outputs": [],
   "source": []
  },
  {
   "cell_type": "code",
   "execution_count": null,
   "metadata": {},
   "outputs": [],
   "source": []
  },
  {
   "cell_type": "code",
   "execution_count": null,
   "metadata": {},
   "outputs": [],
   "source": []
  },
  {
   "cell_type": "code",
   "execution_count": 4,
   "metadata": {},
   "outputs": [
    {
     "data": {
      "text/plain": [
       "array([12.91637212, 13.5034834 , 19.41407972, 17.69608729, 18.18131685,\n",
       "       16.47185933,  9.73419442, 12.41987159, 12.87024926,  8.00739132])"
      ]
     },
     "execution_count": 4,
     "metadata": {},
     "output_type": "execute_result"
    }
   ],
   "source": [
    "uniform_dist = uniform(loc = 0, scale = 20)\n",
    "uniform_dist.rvs(size = 10, random_state = RANDOM_STATE)\n",
    "uniform_dist\n",
    "dist_array=np.array([20,20])\n",
    "dist_array.rvs(size = 10, random_state = RANDOM_STATE)"
   ]
  },
  {
   "cell_type": "markdown",
   "metadata": {},
   "source": [
    "# disContinus random variable"
   ]
  },
  {
   "cell_type": "markdown",
   "metadata": {},
   "source": [
    "## generate scipy.stats._distn_infrastructure.rv_sample model"
   ]
  },
  {
   "cell_type": "code",
   "execution_count": 4,
   "metadata": {},
   "outputs": [
    {
     "data": {
      "text/plain": [
       "array([2, 3, 2, 3, 3, 1, 3, 3, 1, 3, 3, 3, 3, 3, 1, 3, 2, 2, 3, 3])"
      ]
     },
     "execution_count": 4,
     "metadata": {},
     "output_type": "execute_result"
    }
   ],
   "source": [
    "from scipy.stats import rv_discrete, rv_continuous\n",
    "pclass_probability = pd.DataFrame({'probability': dataset.groupby(by = \"pclass\", as_index=False).size() / dataset.pclass.count()}).reset_index()\n",
    "\n",
    "\n",
    "pclass_probability\n",
    "values = pclass_probability.pclass\n",
    "probabilities = pclass_probability.probability\n",
    "custom_discrete_dist = rv_discrete(values=(values, probabilities))\n",
    "\n",
    "# print(custom_discrete_dist)\n",
    "\n",
    "custom_discrete_dist.rvs(size = 20)"
   ]
  },
  {
   "cell_type": "code",
   "execution_count": 5,
   "metadata": {},
   "outputs": [
    {
     "data": {
      "text/plain": [
       "<scipy.stats._distn_infrastructure.rv_sample at 0xb345358>"
      ]
     },
     "execution_count": 5,
     "metadata": {},
     "output_type": "execute_result"
    }
   ],
   "source": [
    "custom_discrete_dist"
   ]
  },
  {
   "cell_type": "markdown",
   "metadata": {},
   "source": [
    "# generate contineus random variable"
   ]
  },
  {
   "cell_type": "code",
   "execution_count": 6,
   "metadata": {},
   "outputs": [],
   "source": [
    "# more link : https://docs.scipy.org/doc/scipy/reference/generated/scipy.stats.rv_continuous.html\n",
    "# https://docs.scipy.org/doc/scipy/reference/generated/scipy.stats.rv_continuous.rvs.html\n",
    "# https://stackoverflow.com/questions/22447797/how-do-you-use-scipy-stats-rv-continuous"
   ]
  },
  {
   "cell_type": "code",
   "execution_count": 7,
   "metadata": {},
   "outputs": [],
   "source": [
    "# example with existing distribution    "
   ]
  },
  {
   "cell_type": "code",
   "execution_count": 8,
   "metadata": {},
   "outputs": [],
   "source": [
    "import pandas as pd\n",
    "import numpy as np\n",
    "\n",
    "#generate a dataframe with random number for age from 0 - 9\n",
    "df_age = pd.DataFrame(np.random.randint(low=0, high=9, size=(100, 1)),columns = ['age'])\n",
    "#set up bins\n",
    "bin = [x for x in np.arange(-1,20,1)]\n",
    "\n",
    "#use pd.cut function can attribute the values into its specific bins\n",
    "category = pd.cut(df_age.age,bin)\n",
    "category = category.to_frame()\n",
    "category.columns = ['range']\n",
    "#concatenate age and its bin\n",
    "df_new = pd.concat([df_age,category],axis = 1)"
   ]
  },
  {
   "cell_type": "code",
   "execution_count": 9,
   "metadata": {},
   "outputs": [
    {
     "data": {
      "text/plain": [
       "100"
      ]
     },
     "execution_count": 9,
     "metadata": {},
     "output_type": "execute_result"
    }
   ],
   "source": [
    "df_age.age.count()"
   ]
  },
  {
   "cell_type": "code",
   "execution_count": 10,
   "metadata": {},
   "outputs": [],
   "source": [
    "age_probability = pd.DataFrame({'probability': df_age.groupby(by = \"age\", as_index=False).size() / df_age.age.count()}).reset_index()"
   ]
  },
  {
   "cell_type": "code",
   "execution_count": 11,
   "metadata": {},
   "outputs": [
    {
     "data": {
      "text/html": [
       "<div>\n",
       "<style scoped>\n",
       "    .dataframe tbody tr th:only-of-type {\n",
       "        vertical-align: middle;\n",
       "    }\n",
       "\n",
       "    .dataframe tbody tr th {\n",
       "        vertical-align: top;\n",
       "    }\n",
       "\n",
       "    .dataframe thead th {\n",
       "        text-align: right;\n",
       "    }\n",
       "</style>\n",
       "<table border=\"1\" class=\"dataframe\">\n",
       "  <thead>\n",
       "    <tr style=\"text-align: right;\">\n",
       "      <th></th>\n",
       "      <th>age</th>\n",
       "      <th>probability</th>\n",
       "    </tr>\n",
       "  </thead>\n",
       "  <tbody>\n",
       "    <tr>\n",
       "      <th>0</th>\n",
       "      <td>0</td>\n",
       "      <td>0.10</td>\n",
       "    </tr>\n",
       "    <tr>\n",
       "      <th>1</th>\n",
       "      <td>1</td>\n",
       "      <td>0.11</td>\n",
       "    </tr>\n",
       "    <tr>\n",
       "      <th>2</th>\n",
       "      <td>2</td>\n",
       "      <td>0.10</td>\n",
       "    </tr>\n",
       "    <tr>\n",
       "      <th>3</th>\n",
       "      <td>3</td>\n",
       "      <td>0.13</td>\n",
       "    </tr>\n",
       "    <tr>\n",
       "      <th>4</th>\n",
       "      <td>4</td>\n",
       "      <td>0.11</td>\n",
       "    </tr>\n",
       "    <tr>\n",
       "      <th>5</th>\n",
       "      <td>5</td>\n",
       "      <td>0.13</td>\n",
       "    </tr>\n",
       "    <tr>\n",
       "      <th>6</th>\n",
       "      <td>6</td>\n",
       "      <td>0.12</td>\n",
       "    </tr>\n",
       "    <tr>\n",
       "      <th>7</th>\n",
       "      <td>7</td>\n",
       "      <td>0.06</td>\n",
       "    </tr>\n",
       "    <tr>\n",
       "      <th>8</th>\n",
       "      <td>8</td>\n",
       "      <td>0.14</td>\n",
       "    </tr>\n",
       "  </tbody>\n",
       "</table>\n",
       "</div>"
      ],
      "text/plain": [
       "   age  probability\n",
       "0    0         0.10\n",
       "1    1         0.11\n",
       "2    2         0.10\n",
       "3    3         0.13\n",
       "4    4         0.11\n",
       "5    5         0.13\n",
       "6    6         0.12\n",
       "7    7         0.06\n",
       "8    8         0.14"
      ]
     },
     "execution_count": 11,
     "metadata": {},
     "output_type": "execute_result"
    }
   ],
   "source": [
    "age_probability"
   ]
  },
  {
   "cell_type": "code",
   "execution_count": null,
   "metadata": {},
   "outputs": [],
   "source": []
  }
 ],
 "metadata": {
  "kernelspec": {
   "display_name": "Python 3",
   "language": "python",
   "name": "python3"
  },
  "language_info": {
   "codemirror_mode": {
    "name": "ipython",
    "version": 3
   },
   "file_extension": ".py",
   "mimetype": "text/x-python",
   "name": "python",
   "nbconvert_exporter": "python",
   "pygments_lexer": "ipython3",
   "version": "3.7.2"
  }
 },
 "nbformat": 4,
 "nbformat_minor": 2
}
