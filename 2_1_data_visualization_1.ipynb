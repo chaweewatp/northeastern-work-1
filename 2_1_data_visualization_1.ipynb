{
 "cells": [
  {
   "cell_type": "code",
   "execution_count": 5,
   "metadata": {},
   "outputs": [],
   "source": [
    "import pandas as pd\n",
    "import json\n",
    "import numpy as np\n",
    "import openpyxl\n",
    "import matplotlib.pyplot as plt\n",
    "%matplotlib inline\n",
    "from pylab import rcParams\n",
    "plt.rcParams['figure.figsize'] = 20, 10\n",
    "import matplotlib.gridspec as gridspec\n",
    "plt.rcParams.update({'font.size': 22})\n",
    "\n",
    "import datetime"
   ]
  },
  {
   "cell_type": "code",
   "execution_count": 1,
   "metadata": {},
   "outputs": [
    {
     "ename": "NameError",
     "evalue": "name 'pd' is not defined",
     "output_type": "error",
     "traceback": [
      "\u001b[1;31m---------------------------------------------------------------------------\u001b[0m",
      "\u001b[1;31mNameError\u001b[0m                                 Traceback (most recent call last)",
      "\u001b[1;32m<ipython-input-1-ec1ef358c8c8>\u001b[0m in \u001b[0;36m<module>\u001b[1;34m\u001b[0m\n\u001b[0;32m      1\u001b[0m \u001b[1;31m# descript number of AMR customer per feeder\u001b[0m\u001b[1;33m\u001b[0m\u001b[1;33m\u001b[0m\u001b[1;33m\u001b[0m\u001b[0m\n\u001b[1;32m----> 2\u001b[1;33m \u001b[0mdf_1\u001b[0m\u001b[1;33m=\u001b[0m\u001b[0mpd\u001b[0m\u001b[1;33m.\u001b[0m\u001b[0mread_excel\u001b[0m\u001b[1;33m(\u001b[0m\u001b[1;34m'raw_files/meterpoint_with_feeder.xlsx'\u001b[0m\u001b[1;33m,\u001b[0m \u001b[0msheet_name\u001b[0m\u001b[1;33m=\u001b[0m\u001b[1;34m'Sheet1'\u001b[0m\u001b[1;33m)\u001b[0m\u001b[1;33m\u001b[0m\u001b[1;33m\u001b[0m\u001b[0m\n\u001b[0m\u001b[0;32m      3\u001b[0m \u001b[0mdf_2\u001b[0m\u001b[1;33m=\u001b[0m\u001b[0mpd\u001b[0m\u001b[1;33m.\u001b[0m\u001b[0mread_csv\u001b[0m\u001b[1;33m(\u001b[0m\u001b[1;34m'raw_files/peano_with_feeder.csv'\u001b[0m\u001b[1;33m)\u001b[0m\u001b[1;33m\u001b[0m\u001b[1;33m\u001b[0m\u001b[0m\n\u001b[0;32m      4\u001b[0m \u001b[1;33m\u001b[0m\u001b[0m\n\u001b[0;32m      5\u001b[0m \u001b[1;33m\u001b[0m\u001b[0m\n",
      "\u001b[1;31mNameError\u001b[0m: name 'pd' is not defined"
     ]
    }
   ],
   "source": [
    "# descript number of AMR customer per feeder\n",
    "df_1=pd.read_excel('raw_files/meterpoint_with_feeder.xlsx', sheet_name='Sheet1')\n",
    "df_2=pd.read_csv('raw_files/peano_with_feeder.csv')\n",
    "\n",
    "\n",
    "dict_meteringpoint={}\n",
    "for feeder in list(set(df_1['feeder'])):\n",
    "    df_temp=df_1.drop(list(np.where(df_1['feeder']!=feeder)[0])).copy()\n",
    "    df_temp=df_temp.reset_index(drop=True)\n",
    "    df_temp_2=df_2.drop(list(np.where(df_2['feeder']!=feeder)[0])).copy()\n",
    "    df_temp_2=df_temp_2.reset_index(drop=True)\n",
    "\n",
    "    number_AMR=len(df_temp['METERPOINTID'])\n",
    "    number_customer=len(df_temp_2['PEANO'])\n",
    "    list_meteringpoint_name=[x for x in list(df_temp['METERPOINTID'])]\n",
    "    list_CTM=[x for x in list(df_temp['CTM'])]\n",
    "    list_CTD=[x for x in list(df_temp['CTD'])]\n",
    "    dict_meteringpoint.update({feeder:{'number_customer':number_customer, 'number_AMR':number_AMR, 'AMR_meterinpoint':list_meteringpoint_name, \n",
    "                               'CTM':list_CTM, 'CTD':list_CTD}})\n",
    "    \n",
    "\n",
    "\n",
    "# plotting code here   \n",
    "list_feeder_name=sorted(list(dict_meteringpoint.keys()))\n",
    "number_customer=np.array([dict_meteringpoint[feeder_name]['number_customer'] for feeder_name in list_feeder_name])\n",
    "number_AMR_customer=np.array([dict_meteringpoint[feeder_name]['number_AMR'] for feeder_name in list_feeder_name])\n",
    "non_AMR_customer=number_customer-number_AMR_customer\n",
    "\n",
    "ind = [x for x, _ in enumerate(list_feeder_name)]\n",
    "propotion_AMR=np.true_divide(number_AMR_customer, number_customer) *100\n",
    "propotion_non_AMR=np.true_divide(non_AMR_customer, number_customer) *100\n",
    "\n",
    "plt.bar(ind, propotion_non_AMR, width=0.8, label='TOU', color='r', bottom=propotion_AMR)\n",
    "plt.bar(ind, propotion_AMR, width=0.8, label='TOU', color='g')\n",
    "\n",
    "\n",
    "for index,data in enumerate(number_AMR_customer):\n",
    "    plt.text(x=index-0.2 , y=propotion_AMR[index]-2 , s=f\"{data}\" , fontdict=dict(fontsize=14))\n",
    "    \n",
    "for index,data in enumerate(non_AMR_customer):\n",
    "    plt.text(x=index-0.2 , y=100-propotion_non_AMR[index]+1 , s=f\"{data}\" , fontdict=dict(fontsize=14))\n",
    "\n",
    "plt.xticks(ind, list_feeder_name)\n",
    "plt.ylabel(\"TOU customer\")\n",
    "plt.xlabel(\"Substation\")\n",
    "plt.title(\"Propotion of TOU customers in feeders\")\n",
    "plt.ylim=1.0\n",
    "\n",
    "# rotate axis labels\n",
    "plt.setp(plt.gca().get_xticklabels(), rotation=45, horizontalalignment='right')\n",
    "plt.savefig('propotion_AMR_meter_in_feeder')\n",
    "\n",
    "plt.show()\n",
    "    "
   ]
  },
  {
   "cell_type": "code",
   "execution_count": null,
   "metadata": {},
   "outputs": [],
   "source": []
  },
  {
   "cell_type": "code",
   "execution_count": null,
   "metadata": {},
   "outputs": [],
   "source": []
  },
  {
   "cell_type": "code",
   "execution_count": null,
   "metadata": {},
   "outputs": [],
   "source": []
  }
 ],
 "metadata": {
  "kernelspec": {
   "display_name": "Python 3",
   "language": "python",
   "name": "python3"
  },
  "language_info": {
   "codemirror_mode": {
    "name": "ipython",
    "version": 3
   },
   "file_extension": ".py",
   "mimetype": "text/x-python",
   "name": "python",
   "nbconvert_exporter": "python",
   "pygments_lexer": "ipython3",
   "version": "3.7.2"
  }
 },
 "nbformat": 4,
 "nbformat_minor": 2
}
