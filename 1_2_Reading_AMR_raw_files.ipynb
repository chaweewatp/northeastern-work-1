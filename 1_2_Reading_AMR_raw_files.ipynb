{
 "cells": [
  {
   "cell_type": "code",
   "execution_count": 49,
   "metadata": {},
   "outputs": [],
   "source": [
    "import pandas as pd\n",
    "import numpy as np\n",
    "import json"
   ]
  },
  {
   "cell_type": "code",
   "execution_count": 43,
   "metadata": {},
   "outputs": [],
   "source": [
    "list_month_year=['012017','022017','032017','042017',\n",
    "                 '052017','062017','072017','082017','092017','102017','112017','122017']"
   ]
  },
  {
   "cell_type": "code",
   "execution_count": 44,
   "metadata": {},
   "outputs": [
    {
     "name": "stdout",
     "output_type": "stream",
     "text": [
      "tblprofilewhimp012017q.dat\n",
      "0\n",
      "tblprofilewhimp022017q.dat\n",
      "481\n",
      "tblprofilewhimp032017q.dat\n",
      "482\n",
      "tblprofilewhimp042017q.dat\n",
      "482\n",
      "tblprofilewhimp052017q.dat\n",
      "482\n",
      "tblprofilewhimp062017q.dat\n",
      "483\n",
      "tblprofilewhimp072017q.dat\n",
      "483\n",
      "tblprofilewhimp082017q.dat\n",
      "484\n",
      "tblprofilewhimp092017q.dat\n",
      "484\n",
      "tblprofilewhimp102017q.dat\n",
      "485\n",
      "tblprofilewhimp112017q.dat\n",
      "485\n",
      "tblprofilewhimp122017q.dat\n",
      "487\n"
     ]
    }
   ],
   "source": [
    "temp_dict={}\n",
    "\n",
    "\n",
    "for file_name in ['tblprofilewhimp{}q.dat'.format(date) for date in list_month_year]:\n",
    "    print(file_name)\n",
    "    print(len(temp_dict))\n",
    "    df_metering = pd.read_csv('raw_files/{}'.format(file_name), sep=\"|\", names =['metering_point', 'Date_time', 'kW', 'other'])\n",
    "    df_metering[\"New_Date\"] = [x.split(\" \")[0] for x in df_metering.Date_time]\n",
    "    df_metering[\"New_Time\"] = [x.split(\" \")[1] for x in df_metering.Date_time]\n",
    "    df_metering[\"Date\"] = [x.split(\"/\")[0] for x in df_metering.New_Date]\n",
    "    df_metering[\"Month\"] = [x.split(\"/\")[1] for x in df_metering.New_Date]\n",
    "    df_metering[\"Year\"] = [x.split(\"/\")[2] for x in df_metering.New_Date]\n",
    "    df_metering[\"Hour\"] = [x.split(\":\")[0] for x in df_metering.New_Time]\n",
    "    df_metering[\"Minute\"] = [x.split(\":\")[1] for x in df_metering.New_Time]\n",
    "    df_metering[\"time_of_day\"]= [int(x)*4+int(y)/15 for x,y in zip(list(df_metering.Hour), list(df_metering.Minute))]\n",
    "    del df_metering['Date_time'], df_metering['other'], df_metering['New_Date'], df_metering['New_Time'], \n",
    "    \n",
    "    for key1, key2, key3, key4, key5, value in zip(list(df_metering['metering_point']),\n",
    "                                                   list(df_metering['Year']),\n",
    "                                                   list(df_metering['Month']),\n",
    "                                                   list(df_metering['Date']),\n",
    "                                                   list(df_metering['time_of_day']),\n",
    "                                                   list(df_metering['kW'])):\n",
    "            if key1 in temp_dict.keys():\n",
    "                if key2 in temp_dict[key1]:\n",
    "                    if key3 in temp_dict[key1][key2]:\n",
    "                        if key4 in temp_dict[key1][key2][key3]:\n",
    "                            if key5 in temp_dict[key1][key2][key3][key4]:\n",
    "                                pass\n",
    "                            else: \n",
    "                                temp_dict[key1][key2][key3][key4].update({key5:value})\n",
    "                        else:\n",
    "                            temp_dict[key1][key2][key3].update({key4:{key5:value}})\n",
    "                    else:\n",
    "                        temp_dict[key1][key2].update({key3:{key4:{key5:value}}})\n",
    "                else:\n",
    "                    temp_dict[key1].update({key2:{key3:{key4:{key5:value}}}})\n",
    "            else:\n",
    "                temp_dict.update({key1:{key2:{key3:{key4:{key5:value}}}}})"
   ]
  },
  {
   "cell_type": "markdown",
   "metadata": {},
   "source": []
  },
  {
   "cell_type": "code",
   "execution_count": 50,
   "metadata": {},
   "outputs": [
    {
     "data": {
      "text/plain": [
       "487"
      ]
     },
     "execution_count": 50,
     "metadata": {},
     "output_type": "execute_result"
    }
   ],
   "source": [
    "len(temp_dict.keys())"
   ]
  },
  {
   "cell_type": "code",
   "execution_count": 51,
   "metadata": {},
   "outputs": [
    {
     "data": {
      "text/plain": [
       "dict_keys([12278, 12279, 12280, 12281, 12282, 12283, 12284, 12285, 12465, 12467, 12482, 12483, 12488, 13565, 13567, 13570, 13571, 13572, 13573, 13859, 13860, 13863, 13864, 13865, 13866, 13981, 13983, 14290, 14291, 14586, 14587, 14588, 15484, 16418, 16419, 16420, 16545, 16546, 16547, 16548, 16591, 16592, 19626, 19633, 19634, 21652, 21654, 21655, 21670, 21689, 28908, 28909, 28910, 28913, 30827, 30830, 30831, 30850, 30857, 30859, 31191, 31202, 31203, 31204, 31205, 31206, 31207, 31208, 31255, 31256, 31257, 31258, 31259, 31272, 31274, 31275, 31276, 31277, 31278, 31283, 31284, 31285, 31286, 31289, 31290, 31291, 31292, 31293, 31294, 31295, 31296, 31297, 31298, 31299, 31300, 33448, 33449, 33454, 33455, 33456, 33457, 34226, 38487, 42421, 42422, 42423, 42431, 42432, 43958, 44318, 44831, 44834, 47381, 47384, 47385, 47386, 47387, 47388, 47389, 47390, 47391, 47392, 47394, 47395, 47396, 47399, 47400, 47401, 56448, 56452, 56457, 56458, 56459, 58390, 58391, 58392, 58394, 58397, 59860, 59861, 59862, 59864, 59865, 59866, 60786, 60787, 60788, 60792, 61818, 61819, 61920, 62038, 63027, 63028, 63043, 66543, 66623, 68232, 71783, 71784, 72434, 72444, 72446, 72450, 72452, 72464, 72465, 72467, 72472, 72474, 72855, 75925, 75943, 75959, 75986, 77564, 77565, 77718, 78316, 78317, 78725, 78773, 79586, 79587, 79594, 79600, 79615, 79616, 79617, 79618, 79627, 79642, 79679, 79704, 79705, 79724, 79725, 79735, 81546, 81563, 81569, 81582, 81583, 81589, 81591, 81595, 81601, 81607, 81611, 81612, 81624, 81637, 81650, 81705, 87721, 87729, 87764, 87766, 87776, 87797, 87805, 87819, 87892, 87901, 87905, 87913, 96893, 96894, 96895, 96896, 96897, 96898, 96899, 96900, 96901, 96902, 96903, 96904, 96905, 96906, 96907, 96908, 96909, 96910, 97714, 102989, 102993, 103010, 103043, 103065, 103189, 103198, 103234, 110036, 110039, 110040, 110041, 110042, 110043, 110044, 110045, 110046, 110047, 110048, 110049, 110050, 110051, 110052, 110053, 110054, 110055, 110065, 110066, 110067, 110068, 110069, 110070, 110071, 110072, 110073, 110074, 110075, 110076, 110077, 110078, 110079, 110080, 110081, 110082, 110083, 110084, 110085, 110086, 110087, 110088, 110089, 110090, 110091, 110092, 110093, 110094, 110095, 110096, 110097, 110098, 110099, 110100, 110102, 110103, 110104, 110105, 110106, 110107, 110108, 110109, 110110, 110111, 110112, 110113, 110114, 110115, 117746, 117747, 117748, 117749, 117753, 117754, 117755, 118263, 118274, 119128, 119161, 119171, 119179, 119224, 119239, 119240, 123017, 123018, 123637, 123639, 124642, 124647, 124649, 124656, 124678, 124683, 124687, 126245, 126246, 126247, 126251, 126254, 126255, 126259, 126260, 126267, 126268, 126280, 126282, 126284, 126285, 126286, 126289, 126294, 126318, 126319, 126322, 126323, 126325, 126327, 126330, 126331, 126333, 126334, 126335, 126336, 126340, 126342, 126343, 126346, 126348, 126349, 126350, 126351, 126352, 126355, 126357, 126358, 126360, 126361, 126364, 126366, 126370, 126372, 126373, 126374, 126375, 126376, 126377, 126390, 126411, 126412, 126414, 126416, 126420, 126422, 126425, 126426, 126427, 126428, 126429, 126430, 126457, 126458, 126459, 126460, 130607, 130608, 130609, 130610, 130611, 130612, 130614, 130615, 130639, 130640, 130675, 130676, 130677, 130678, 130679, 130680, 130681, 130682, 130683, 130684, 130685, 130686, 130687, 130688, 130689, 130690, 130691, 130779, 134578, 134579, 134580, 134582, 134583, 134584, 134585, 134586, 136898, 136899, 136900, 137065, 137091, 137094, 137110, 137118, 137138, 137986, 139170, 139185, 139196, 140196, 143537, 143554, 143570, 145437, 146942, 152878, 153179, 155398, 159257, 160020, 164978, 177197, 181521, 185767, 189318, 47398, 191397, 15485, 191968, 191969])"
      ]
     },
     "execution_count": 51,
     "metadata": {},
     "output_type": "execute_result"
    }
   ],
   "source": [
    "temp_dict.keys()"
   ]
  },
  {
   "cell_type": "code",
   "execution_count": 52,
   "metadata": {},
   "outputs": [],
   "source": [
    "json = json.dumps(temp_dict)\n",
    "f = open(\"temp_dict.json\",\"w\")\n",
    "f.write(json)\n",
    "f.close()"
   ]
  },
  {
   "cell_type": "code",
   "execution_count": null,
   "metadata": {},
   "outputs": [],
   "source": []
  },
  {
   "cell_type": "code",
   "execution_count": 66,
   "metadata": {},
   "outputs": [],
   "source": [
    "\n"
   ]
  },
  {
   "cell_type": "code",
   "execution_count": 85,
   "metadata": {},
   "outputs": [
    {
     "data": {
      "text/html": [
       "<div>\n",
       "<style scoped>\n",
       "    .dataframe tbody tr th:only-of-type {\n",
       "        vertical-align: middle;\n",
       "    }\n",
       "\n",
       "    .dataframe tbody tr th {\n",
       "        vertical-align: top;\n",
       "    }\n",
       "\n",
       "    .dataframe thead th {\n",
       "        text-align: right;\n",
       "    }\n",
       "</style>\n",
       "<table border=\"1\" class=\"dataframe\">\n",
       "  <thead>\n",
       "    <tr style=\"text-align: right;\">\n",
       "      <th></th>\n",
       "      <th>metering_point</th>\n",
       "      <th>kW</th>\n",
       "      <th>Date</th>\n",
       "      <th>Month</th>\n",
       "      <th>Year</th>\n",
       "      <th>Hour</th>\n",
       "      <th>Minute</th>\n",
       "      <th>time_of_day</th>\n",
       "    </tr>\n",
       "  </thead>\n",
       "  <tbody>\n",
       "    <tr>\n",
       "      <th>0</th>\n",
       "      <td>12278</td>\n",
       "      <td>36.867267</td>\n",
       "      <td>01</td>\n",
       "      <td>01</td>\n",
       "      <td>2019</td>\n",
       "      <td>00</td>\n",
       "      <td>15</td>\n",
       "      <td>1.0</td>\n",
       "    </tr>\n",
       "    <tr>\n",
       "      <th>1</th>\n",
       "      <td>12278</td>\n",
       "      <td>35.969475</td>\n",
       "      <td>01</td>\n",
       "      <td>01</td>\n",
       "      <td>2019</td>\n",
       "      <td>00</td>\n",
       "      <td>30</td>\n",
       "      <td>2.0</td>\n",
       "    </tr>\n",
       "    <tr>\n",
       "      <th>2</th>\n",
       "      <td>12278</td>\n",
       "      <td>36.568899</td>\n",
       "      <td>01</td>\n",
       "      <td>01</td>\n",
       "      <td>2019</td>\n",
       "      <td>00</td>\n",
       "      <td>45</td>\n",
       "      <td>3.0</td>\n",
       "    </tr>\n",
       "    <tr>\n",
       "      <th>3</th>\n",
       "      <td>12278</td>\n",
       "      <td>39.837507</td>\n",
       "      <td>01</td>\n",
       "      <td>01</td>\n",
       "      <td>2019</td>\n",
       "      <td>01</td>\n",
       "      <td>00</td>\n",
       "      <td>4.0</td>\n",
       "    </tr>\n",
       "    <tr>\n",
       "      <th>4</th>\n",
       "      <td>12278</td>\n",
       "      <td>45.538756</td>\n",
       "      <td>01</td>\n",
       "      <td>01</td>\n",
       "      <td>2019</td>\n",
       "      <td>01</td>\n",
       "      <td>15</td>\n",
       "      <td>5.0</td>\n",
       "    </tr>\n",
       "  </tbody>\n",
       "</table>\n",
       "</div>"
      ],
      "text/plain": [
       "   metering_point         kW Date Month  Year Hour Minute  time_of_day\n",
       "0           12278  36.867267   01    01  2019   00     15          1.0\n",
       "1           12278  35.969475   01    01  2019   00     30          2.0\n",
       "2           12278  36.568899   01    01  2019   00     45          3.0\n",
       "3           12278  39.837507   01    01  2019   01     00          4.0\n",
       "4           12278  45.538756   01    01  2019   01     15          5.0"
      ]
     },
     "execution_count": 85,
     "metadata": {},
     "output_type": "execute_result"
    }
   ],
   "source": [
    "df_metering.head()"
   ]
  },
  {
   "cell_type": "code",
   "execution_count": null,
   "metadata": {},
   "outputs": [],
   "source": []
  },
  {
   "cell_type": "code",
   "execution_count": null,
   "metadata": {},
   "outputs": [],
   "source": [
    "temp_dict={}\n",
    "\n",
    "for Year in [2016, 2017, 2018, 2019]:\n",
    "    print(Year)\n",
    "    for file_name in ['meter_n3_{0:03}.csv'.format(i) for i in range(0,75)]:\n",
    "        print('number of customer {}'.format(len(temp_dict)))\n",
    "        print(file_name)\n",
    "        df_metering = pd.read_csv('Data/Measurement/{}'.format(file_name), engine='python')\n",
    "        df_temp=df_metering_all.drop(list(np.where(df_metering_all['Year']!=Year)[0])).copy()\n",
    "        df_temp=df_temp.reset_index(drop=True)\n",
    "        for key1, key2, key3, value in zip(list(df_temp['Account']),list(df_temp['Year']),list(df_temp['Month']),list(df_temp['Kwh_total'])):\n",
    "            if key1 in temp_dict.keys():\n",
    "                if key2 in temp_dict[key1]:\n",
    "                    if key3 in temp_dict[key1][key2]:\n",
    "                        pass\n",
    "                    else:\n",
    "                        temp_dict[key1][key2].update({key3:value})\n",
    "                else:\n",
    "                    temp_dict[key1].update({key2:{key3:value}})\n",
    "            else:\n",
    "                temp_dict.update({key1:{key2:{key3:value}}})\n"
   ]
  }
 ],
 "metadata": {
  "kernelspec": {
   "display_name": "Python 3",
   "language": "python",
   "name": "python3"
  },
  "language_info": {
   "codemirror_mode": {
    "name": "ipython",
    "version": 3
   },
   "file_extension": ".py",
   "mimetype": "text/x-python",
   "name": "python",
   "nbconvert_exporter": "python",
   "pygments_lexer": "ipython3",
   "version": "3.7.2"
  }
 },
 "nbformat": 4,
 "nbformat_minor": 2
}
